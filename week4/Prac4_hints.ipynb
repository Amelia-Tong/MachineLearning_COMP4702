{
 "cells": [
  {
   "cell_type": "code",
   "execution_count": null,
   "id": "ca8abaaf",
   "metadata": {},
   "outputs": [],
   "source": [
    "# packages\n",
    "import numpy as np\n",
    "import pandas as pd\n",
    "import matplotlib.pyplot as plt"
   ]
  },
  {
   "cell_type": "markdown",
   "id": "526dd8e5",
   "metadata": {},
   "source": [
    "# Q1"
   ]
  },
  {
   "cell_type": "markdown",
   "id": "b436a714",
   "metadata": {},
   "source": [
    "__a)__"
   ]
  },
  {
   "cell_type": "code",
   "execution_count": null,
   "id": "d7b2c550",
   "metadata": {},
   "outputs": [],
   "source": [
    "# Define the function\n",
    "def f(x):\n",
    "    return ???\n",
    "\n",
    "# Create a range of x values from -1 to 1\n",
    "x = np.linspace(???, ???, ???)\n",
    "\n",
    "# Plot the function\n",
    "plt.plot(???, ???)\n",
    "plt.xlabel('x')\n",
    "plt.ylabel('$f(x) = x^3 + 1$')\n",
    "plt.grid(True)"
   ]
  },
  {
   "cell_type": "markdown",
   "id": "3a5312ed",
   "metadata": {},
   "source": [
    "__b)__"
   ]
  },
  {
   "cell_type": "code",
   "execution_count": null,
   "id": "61c6f8fa",
   "metadata": {},
   "outputs": [],
   "source": [
    "# Generate a random set 30 of x/input values\n",
    "np.random.seed(4702)\n",
    "x_sample = np.random.uniform(???, ???, ???)\n",
    "\n",
    "# Evaluate the true function at each input value \n",
    "# and add Gaussian random noise\n",
    "y_sample = f(x_sample) + np.random.normal(???, ???, ???)\n",
    "\n",
    "# Plot the sample training set with the function \n",
    "plt.plot(???, ???)\n",
    "plt.scatter(???, ???, color='red')\n",
    "plt.xlabel('x')\n",
    "plt.ylabel('$f(x) = x^3 + 1$')\n",
    "plt.grid(True)"
   ]
  },
  {
   "cell_type": "markdown",
   "id": "6010b3b0",
   "metadata": {},
   "source": [
    "__c)__"
   ]
  },
  {
   "cell_type": "code",
   "execution_count": null,
   "id": "4bd242cb",
   "metadata": {},
   "outputs": [],
   "source": [
    "# import packages and functions\n",
    "from sklearn.linear_model import LinearRegression\n",
    "from sklearn.metrics import mean_squared_error\n",
    "\n",
    "# Initialize the linear regression model\n",
    "lr_model = LinearRegression()\n",
    "\n",
    "\n",
    "#### Your code below ####\n",
    "\n",
    "# TODO: Reshape x_sample for fitting the model (if your data has a single feature).\n",
    "\n",
    "\n",
    "# TODO: Fit the model to the training data\n",
    "\n",
    "\n",
    "# TODO: Predict the outputs with the fitted model\n",
    "\n",
    "\n",
    "# TODO: Calculate the training set error (mean squared error)"
   ]
  },
  {
   "cell_type": "markdown",
   "id": "42f25aa8",
   "metadata": {},
   "source": [
    "__d)__"
   ]
  },
  {
   "cell_type": "code",
   "execution_count": null,
   "id": "64f74035",
   "metadata": {},
   "outputs": [],
   "source": [
    "from sklearn.preprocessing import PolynomialFeatures\n",
    "\n",
    "# Initialize a polynomial features transformer\n",
    "degree = ???\n",
    "poly = PolynomialFeatures(degree)\n",
    "\n",
    "# Initialize the linear regression model\n",
    "lr_model = LinearRegression()\n",
    "\n",
    "\n",
    "#### Your code below ####\n",
    "\n",
    "# TODO: Fit the model to the transformed training data\n",
    "\n",
    "# TODO: Predict the outputs with the fitted model\n",
    "\n",
    "# TODO: Calculate the training set error (mean squared error)\n",
    "\n",
    "# TODO: Plot the predicted values vs training samples (sort the samples for a smooth line plot)\n",
    "\n",
    "# TODO: Experiment with different order polynomials"
   ]
  },
  {
   "cell_type": "markdown",
   "id": "f9343247",
   "metadata": {},
   "source": [
    "# Q2"
   ]
  },
  {
   "cell_type": "code",
   "execution_count": null,
   "id": "d50c6ed6",
   "metadata": {},
   "outputs": [],
   "source": [
    "# Read in the dataset\n",
    "pokemon = pd.read_csv(\"pokemonregr.csv\")\n",
    "\n",
    "# print the first few line\n",
    "pokemon.head()"
   ]
  },
  {
   "cell_type": "code",
   "execution_count": null,
   "id": "c68208d8",
   "metadata": {},
   "outputs": [],
   "source": [
    "pokemon.info()\n",
    "\n",
    "\n",
    "#### Your code below ####\n",
    "\n",
    "# TODO: data wrangling may need before fitting models"
   ]
  },
  {
   "cell_type": "markdown",
   "id": "9a7e36cc",
   "metadata": {},
   "source": [
    "__b)__"
   ]
  },
  {
   "cell_type": "code",
   "execution_count": null,
   "id": "f976305c",
   "metadata": {},
   "outputs": [],
   "source": [
    "#### Your code below ####\n",
    "\n",
    "# TODO: define X and y\n",
    "\n",
    "# TODO: initialise and fit model \n",
    "\n",
    "# TODO: Predict the outputs with the fitted model\n",
    "\n",
    "# TODO: Calculate the training set error (mean squared error)"
   ]
  },
  {
   "cell_type": "markdown",
   "id": "1b1b4705",
   "metadata": {},
   "source": [
    "__c)__"
   ]
  },
  {
   "cell_type": "code",
   "execution_count": null,
   "id": "fd814985",
   "metadata": {},
   "outputs": [],
   "source": [
    "#### Your code below ####\n",
    "\n",
    "# TODO: Print the coefficients of the trained Linear Model\n",
    "# (hint: look at the documentation of LinearRegression() method in sklearn)"
   ]
  },
  {
   "cell_type": "markdown",
   "id": "0d23be84",
   "metadata": {},
   "source": [
    "__e)__"
   ]
  },
  {
   "cell_type": "code",
   "execution_count": null,
   "id": "c74d773a",
   "metadata": {},
   "outputs": [],
   "source": [
    "from sklearn.preprocessing import StandardScaler\n",
    "\n",
    "#### Your code below ####\n",
    "\n",
    "# TODO: Normalisation\n",
    "\n",
    "# TODO: Initialise and fit model \n",
    "\n",
    "# TODO: Predict the outputs with the fitted model\n",
    "\n",
    "# TODO: Calculate the training set error (mean squared error)\n",
    "\n",
    "# TODO: Print the coefficients of the trained Linear Model\n"
   ]
  },
  {
   "cell_type": "markdown",
   "id": "102876a7",
   "metadata": {},
   "source": [
    "# Q3"
   ]
  },
  {
   "cell_type": "markdown",
   "id": "79373ca3",
   "metadata": {},
   "source": [
    "__a)__"
   ]
  },
  {
   "cell_type": "code",
   "execution_count": null,
   "id": "dfe00ed1",
   "metadata": {},
   "outputs": [],
   "source": [
    "# read in data\n",
    "column_names = ['x1', 'x2', 'Y']\n",
    "df = pd.read_csv(\"w3classif.csv\", header = None, names=column_names)\n",
    "\n",
    "df.head()"
   ]
  },
  {
   "cell_type": "code",
   "execution_count": null,
   "id": "01e04834",
   "metadata": {},
   "outputs": [],
   "source": [
    "#### Your code below ####\n",
    "\n",
    "# TODO: Define X and y\n",
    "\n",
    "# TODO: Define and fit model\n",
    "\n",
    "# TODO: Print the coefficients of the trained Linear Model"
   ]
  },
  {
   "cell_type": "markdown",
   "id": "6e532630",
   "metadata": {},
   "source": [
    "__b)__"
   ]
  },
  {
   "cell_type": "code",
   "execution_count": null,
   "id": "611ff5b5",
   "metadata": {},
   "outputs": [],
   "source": [
    "# Given a test data point x’ = (1.1, 1.1), predict p(y’=1|x’)\n",
    "eng = \n",
    "prob = \n",
    "prob"
   ]
  },
  {
   "cell_type": "markdown",
   "id": "b7a48344",
   "metadata": {},
   "source": [
    "__c)__"
   ]
  },
  {
   "cell_type": "code",
   "execution_count": null,
   "id": "4a777ffa",
   "metadata": {},
   "outputs": [],
   "source": [
    "#### Your code below ####\n",
    "# TODO: Create a meshgrid of points\n",
    "\n",
    "# TODO: Predict class for each point in the mesh\n",
    "\n",
    "# TODO: Plot the decision boundary and training points/test points"
   ]
  }
 ],
 "metadata": {
  "kernelspec": {
   "display_name": "Python 3 (ipykernel)",
   "language": "python",
   "name": "python3"
  },
  "language_info": {
   "codemirror_mode": {
    "name": "ipython",
    "version": 3
   },
   "file_extension": ".py",
   "mimetype": "text/x-python",
   "name": "python",
   "nbconvert_exporter": "python",
   "pygments_lexer": "ipython3",
   "version": "3.9.13"
  }
 },
 "nbformat": 4,
 "nbformat_minor": 5
}
