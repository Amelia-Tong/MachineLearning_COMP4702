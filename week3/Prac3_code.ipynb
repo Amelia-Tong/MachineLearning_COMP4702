{
 "cells": [
  {
   "cell_type": "code",
   "execution_count": null,
   "id": "25b4227e",
   "metadata": {},
   "outputs": [],
   "source": [
    "# packages\n",
    "import numpy as np\n",
    "import pandas as pd\n",
    "import seaborn as sns\n",
    "import matplotlib.pyplot as plt"
   ]
  },
  {
   "cell_type": "markdown",
   "id": "e83be01d",
   "metadata": {},
   "source": [
    "# Q1 & 2"
   ]
  },
  {
   "cell_type": "code",
   "execution_count": null,
   "id": "8732328b",
   "metadata": {},
   "outputs": [],
   "source": [
    "# Read in data\n",
    "column_names = ['X1', 'X2', 'Y']\n",
    "df = pd.read_csv(\"w3classif.csv\", header = None, names=column_names)\n",
    "df"
   ]
  },
  {
   "cell_type": "code",
   "execution_count": null,
   "id": "a5f0c2be",
   "metadata": {},
   "outputs": [],
   "source": [
    "# Shuffle and split\n",
    "from sklearn.model_selection import train_test_split\n",
    "\n",
    "??????????"
   ]
  },
  {
   "cell_type": "code",
   "execution_count": null,
   "id": "6ed17b1e",
   "metadata": {},
   "outputs": [],
   "source": [
    "# visualise the training set\n",
    "sns.scatterplot(x=???,y=???, hue=???)"
   ]
  },
  {
   "cell_type": "markdown",
   "id": "94b365ee",
   "metadata": {},
   "source": [
    "# Q3"
   ]
  },
  {
   "cell_type": "code",
   "execution_count": null,
   "id": "547587ec",
   "metadata": {},
   "outputs": [],
   "source": [
    "# scale the dataest (if applicable)\n",
    "from sklearn.preprocessing import StandardScaler"
   ]
  },
  {
   "cell_type": "code",
   "execution_count": null,
   "id": "6636fceb",
   "metadata": {},
   "outputs": [],
   "source": [
    "# KNN for classification\n",
    "from sklearn.neighbors import KNeighborsClassifier\n",
    "\n",
    "# Define and fit the classifier\n",
    "knn_c = KNeighborsClassifier(n_neighbors=???)\n",
    "?????\n",
    "\n",
    "# Make predictions on the training/test test data\n",
    "??????\n",
    "\n",
    "# Evaluate the model\n",
    "??????"
   ]
  },
  {
   "cell_type": "code",
   "execution_count": null,
   "id": "36ba6e0d",
   "metadata": {},
   "outputs": [],
   "source": [
    "# Plot the decision regions\n",
    "# Create a meshgrid of points\n",
    "min1, max1 = X_tr['X1'].min() - 1, X_ts['X1'].max() + 1\n",
    "min2, max2 = X_tr['X2'].min() - 1, X_ts['X2'].max() + 1\n",
    "\n",
    "x1grid = np.arange(min1, max1, 0.1)\n",
    "x2grid = np.arange(min2, max2, 0.1)\n",
    "\n",
    "xx1, xx2 = np.meshgrid(x1grid, x2grid)\n",
    "\n",
    "# Predict class for each point in the mesh\n",
    "?????\n",
    "\n",
    "# Plot the decision boundary and training points/test points\n",
    "plt.scatter(??, ??, c=??, alpha=0.2, cmap='tab20')\n",
    "plt.scatter(??, ??, c=??)\n",
    "\n",
    "plt.xlabel('Feature 1')\n",
    "plt.ylabel('Feature 2')\n",
    "plt.title('k-NN Decision Boundary')\n",
    "plt.show()"
   ]
  },
  {
   "cell_type": "code",
   "execution_count": null,
   "id": "3a26cf77",
   "metadata": {},
   "outputs": [],
   "source": [
    "# experiment with different k values"
   ]
  },
  {
   "cell_type": "markdown",
   "id": "3822d06e",
   "metadata": {},
   "source": [
    "# Q5"
   ]
  },
  {
   "cell_type": "code",
   "execution_count": null,
   "id": "f76249ac",
   "metadata": {},
   "outputs": [],
   "source": [
    "# Classification tree\n",
    "from sklearn.tree import DecisionTreeClassifier\n",
    "\n",
    "# Define and fit a classification tree\n",
    "????\n",
    "\n",
    "# Make predictions on the training/test test data\n",
    "??????\n",
    "\n",
    "# Evaluate the model\n",
    "??????"
   ]
  },
  {
   "cell_type": "code",
   "execution_count": null,
   "id": "06d3f24c",
   "metadata": {},
   "outputs": [],
   "source": [
    "# Plot the decision regions\n",
    "\n",
    "# Predict class for each point in the mesh\n",
    "?????\n",
    "\n",
    "# Plot the decision boundary and training points/test points\n",
    "plt.scatter(??, ??, c=??, alpha=0.2, cmap='tab20')\n",
    "plt.scatter(??, ??, c=??)\n",
    "\n",
    "plt.xlabel('Feature 1')\n",
    "plt.ylabel('Feature 2')\n",
    "plt.title('Classification Tree Decision Boundary')\n",
    "plt.show()"
   ]
  }
 ],
 "metadata": {
  "kernelspec": {
   "display_name": "Python 3 (ipykernel)",
   "language": "python",
   "name": "python3"
  },
  "language_info": {
   "codemirror_mode": {
    "name": "ipython",
    "version": 3
   },
   "file_extension": ".py",
   "mimetype": "text/x-python",
   "name": "python",
   "nbconvert_exporter": "python",
   "pygments_lexer": "ipython3",
   "version": "3.9.13"
  }
 },
 "nbformat": 4,
 "nbformat_minor": 5
}
